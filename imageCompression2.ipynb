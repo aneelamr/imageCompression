{
 "cells": [
  {
   "cell_type": "markdown",
   "metadata": {
    "collapsed": false
   },
   "source": [
    "## Math 157: Intro to Mathematical Software\n",
    "## UC San Diego, winter 2020"
   ]
  },
  {
   "cell_type": "markdown",
   "metadata": {
    "collapsed": false
   },
   "source": [
    "## Final project: due March 20, 2020"
   ]
  },
  {
   "cell_type": "markdown",
   "metadata": {
    "collapsed": false
   },
   "source": [
    "The final project is an open-ended assignment, in which you will be making a presentation to some of your fellow students on one of these topics:\n",
    "- Machine learning and algorithmic bias\n",
    "- Applications of singular value decomposition\n",
    "- Number theory and distributed ledgers (blockchains)\n",
    "- Differential equations and climate change modeling\n",
    "- Permutation groups and the Enigma machine\n",
    "- Graph theory and Congressional redistricting\n",
    "\n",
    "Detailed instructions are given below. Note that you are not being asked to edit *this* notebook in any way; any material added to this notebook will not be counted for credit."
   ]
  },
  {
   "cell_type": "markdown",
   "metadata": {
    "collapsed": false
   },
   "source": [
    "To complete the final project successfully, please follow these steps.\n",
    "- Check the file `final_project_groups.md` in the shared project.\n",
    "   - In most cases, you should be assigned the topic that you indicated on the Google Form as your first choice. A handful of students were assigned their second choice instead.\n",
    "   - You have also been assigned randomly to a group of 2 or 3 in which all of you are presenting *different* topics (this being the reason why not too many people can choose the same topic).\n",
    "   - I am planning a future lecture about the topic assignment process, which uses pandas in an essential way.\n",
    "- Prepare a Jupyter notebook called \"presentation-xxx.ipynb\" where xxx is your UCSD email address (without the `@ucsd.edu` part).\n",
    "   - Your notebook should be in the style of a lecture of this course. In particular, it should take 45-50 minutes to present (excluding the exercises).\n",
    "   - Your intended audience is a typical student in this course. You may assume familiarity with all course material, but do not assume any prerequisites beyond those required for this course.\n",
    "   - You should be presenting material that has not already been presented in class.\n",
    "   - You should include an appropriate balance of expository text, examples, and references for further information.\n",
    "   - You should include at least two sample exercises *with solutions* for a hypothetical problem set on this topic; this should appear at the end of your notebook.\n",
    "   - As always, cite all sources and collaborators.\n",
    "- Meet with your assigned group and have each person make a presentation based on their notebook (excluding the exercises).\n",
    "   - I don't expect you to have access to a video projector (though if you do, so much the better). Just have everyone crowd around your device as you go through your presentation.\n",
    "   - Your group can choose any mutually agreeable time(s) for the presentations as long as you get them done in time to submit the project.\n",
    "   - You may wish to share your notebook with the students in your group. You can do this by transferring files through the shared project; creating a new project with your group members as the collaborators; or downloading and uploading files out of CoCalc.\n",
    "   - It is permitted to revise your notebook after making your presentation; in this case, you will be asked to submit an extra file summarizing these changes.\n",
    "   - Let me know as soon as possible if you are unable to contact one of the members of your group. If your group size drops below 2 (because the other members drop the class), let me know and I will merge your group into another one.\n",
    "- Submit, in this folder, the following files.\n",
    "   - `presentation-xxx.ipynb`: your presentation notebook.\n",
    "   - `changes-xxx.txt` (optional): a description of any changes you made to your presentation based on feedback from your group.\n",
    "   - `feedback-xxx-yyy.txt`: for each other member of your group, your comments on their presentation. Here `yyy` is the other person's UCSD email address, again without `@ucsd.edu`. (So if your group consists of 3 people, you will submit 2 files of this type.)\n"
   ]
  },
  {
   "cell_type": "markdown",
   "metadata": {
    "collapsed": false
   },
   "source": [
    "Grading criteria:\n",
    " - Presentation (60%):\n",
    "   - Extent: Did you include enough material for 45-50 minutes? Is your material at a suitable depth (mathematically and computationally)?\n",
    "   - Topic coverage:\n",
    "        - Did you present some relevant mathematics?\n",
    "        - Did you make a genuine link between this mathematics and the \"applied\" part of your topic?\n",
    "   - Correctness: Do your examples work?\n",
    "   - Exposition: Does your text actually explain what is going on?\n",
    " - Exercise and solution (20%):\n",
    "   - Extent: Did you include enough material for two exercises? Is your material at a suitable depth (mathematically and computationally)?\n",
    "   - Correctness: Are your solutions correct?\n",
    "   - Exposition: Do your problems serve to elucidate your chosen topic?\n",
    " - Feedback (20%):\n",
    "   - Thoroughness: Did you provide comments on all of your assigned presentations?\n",
    "   - Thoughtfulness: Were you paying attention? Are your comments germane and constructive?"
   ]
  }
 ],
 "metadata": {
  "kernelspec": {
   "display_name": "Python 3 (system-wide)",
   "language": "python",
   "metadata": {
    "cocalc": {
     "description": "Python 3 programming language",
     "priority": 100,
     "url": "https://www.python.org/"
    }
   },
   "name": "python3"
  },
  "language_info": {
   "codemirror_mode": {
    "name": "ipython",
    "version": 3
   },
   "file_extension": ".py",
   "mimetype": "text/x-python",
   "name": "python",
   "nbconvert_exporter": "python",
   "pygments_lexer": "ipython3",
   "version": "3.6.9"
  }
 },
 "nbformat": 4,
 "nbformat_minor": 0
}